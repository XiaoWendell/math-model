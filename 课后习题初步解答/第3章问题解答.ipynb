{
 "cells": [
  {
   "cell_type": "code",
   "execution_count": 4,
   "outputs": [
    {
     "name": "stdout",
     "output_type": "stream",
     "text": [
      "-1/6 + 5*sqrt(5)/6\n",
      "1/2\n"
     ]
    }
   ],
   "source": [
    "#3.1\n",
    "\n",
    "#求定积分符号解答，可以使用sympy中的integrate函数\n",
    "#(1)\n",
    "import scipy.optimize\n",
    "import sympy as sym\n",
    "x = sym.symbols('x')\n",
    "num = sym.integrate(sym.sqrt(1+4*x),(x,0,1))\n",
    "print(num)\n",
    "#(2)\n",
    "num = sym.integrate(sym.exp(-x)*sym.sin(x),(x,0,sym.oo))\n",
    "print(num)"
   ],
   "metadata": {
    "collapsed": false,
    "pycharm": {
     "name": "#%%\n"
    }
   }
  },
  {
   "cell_type": "code",
   "execution_count": 57,
   "outputs": [
    {
     "name": "stdout",
     "output_type": "stream",
     "text": [
      "调用sympy求得的符号解为：[4/3 + (-1/2 - sqrt(3)*I/2)*(64/27 + 2*sqrt(114)/9)**(1/3) - 2/(9*(-1/2 - sqrt(3)*I/2)*(64/27 + 2*sqrt(114)/9)**(1/3)), 4/3 - 2/(9*(-1/2 + sqrt(3)*I/2)*(64/27 + 2*sqrt(114)/9)**(1/3)) + (-1/2 + sqrt(3)*I/2)*(64/27 + 2*sqrt(114)/9)**(1/3), -2/(9*(64/27 + 2*sqrt(114)/9)**(1/3)) + 4/3 + (64/27 + 2*sqrt(114)/9)**(1/3)]\n",
      "{-2/(9*(64/27 + 2*sqrt(114)/9)**(1/3)) + 4/3 + (64/27 + 2*sqrt(114)/9)**(1/3): 1, 4/3 - 2/(9*(-1/2 + sqrt(3)*I/2)*(64/27 + 2*sqrt(114)/9)**(1/3)) + (-1/2 + sqrt(3)*I/2)*(64/27 + 2*sqrt(114)/9)**(1/3): 1, 4/3 + (-1/2 - sqrt(3)*I/2)*(64/27 + 2*sqrt(114)/9)**(1/3) - 2/(9*(-1/2 - sqrt(3)*I/2)*(64/27 + 2*sqrt(114)/9)**(1/3)): 1}\n",
      "********************\n",
      "调用sympy求得的符号数值解为：[2.88123940107640, 0.559380299461801 - 1.56961032188996*I, 0.559380299461801 + 1.56961032188996*I]\n",
      "{2.88123940107640: 1, 0.559380299461801 - 1.56961032188996*I: 1, 0.559380299461801 + 1.56961032188996*I: 1}\n"
     ]
    }
   ],
   "source": [
    "#3.2\n",
    "\n",
    "# 注意如果要取出复数部分，只保留实数部分可以使用 solvest函数\n",
    "#另外求解器是会根据输入进行判别输出为什么类型的数据，比如输入的是整数，则输出完整的符号；输入的是浮点数，输出则为浮点数\n",
    "#scipy貌似对求解复数问题不适用\n",
    "\n",
    "#求普通方程的符号解和数值解\n",
    "# import sympy as sym\n",
    "# import numpy as np\n",
    "# x = sym.symbols('x',real = True)\n",
    "# expr1 = x**3-4*x**2+6*x-8#构造等式，然后再来解一元三次方程\n",
    "# num = sym.solveset(expr1,x)#求解根\n",
    "# print('调用sympy求得的符号解为：{}'.format(num))\n",
    "# print(sym.roots(expr1,x))#查看重根情况\n",
    "# import scipy as sci\n",
    "# f = lambda x : x**3-4*x**2+6*x-8\n",
    "# print(sci.optimize.fsolve(f,0))\n",
    "import sympy as sym\n",
    "import numpy as np\n",
    "x = sym.symbols('x')\n",
    "expr1 = x**3-4*x**2+6*x-8#构造等式，然后再来解一元三次方程\n",
    "num = sym.solve(expr1,x)#求解根\n",
    "print('调用sympy求得的符号解为：{}'.format(num))\n",
    "print(sym.roots(expr1,x))#查看重根情况\n",
    "print('*'*20)\n",
    "expr2 = x**3-4.*x**2+6.*x-8.#构造等式，然后再来解一元三次方程\n",
    "num2 = sym.solve(expr2,x)#求解根\n",
    "print('调用sympy求得的符号数值解为：{}'.format(num2))\n",
    "print(sym.roots(expr2,x))#查看重根情况"
   ],
   "metadata": {
    "collapsed": false,
    "pycharm": {
     "name": "#%%\n"
    }
   }
  },
  {
   "cell_type": "code",
   "execution_count": 98,
   "outputs": [
    {
     "name": "stdout",
     "output_type": "stream",
     "text": [
      "方程的符号解为： [(1/3 - sqrt(46)/3, sqrt(46)/9 + 17/9), (1/3 + sqrt(46)/3, 17/9 - sqrt(46)/9)]\n",
      "方程的符号化简数值解为： [(-1.92744332770842, 2.64248110923614), (2.59410999437509, 1.13529666854164)]\n",
      "Matrix([[-1.92744332770842], [2.64248110923614]])\n",
      "Matrix([[2.59410999437509], [1.13529666854164]])\n"
     ]
    }
   ],
   "source": [
    "#3.3\n",
    "\n",
    "#求方程组的符号解和数值解\n",
    "x,y = sym.symbols('x y')\n",
    "s = sym.solve([x**2-y-x-3,x+3*y-6],[x,y])\n",
    "print('方程的符号解为：',s)\n",
    "s = sym.solve([x**2-y-x-3.,x+3.*y-6.],[x,y])\n",
    "print('方程的符号化简数值解为：',s)\n",
    "s= sym.nsolve((x**2-y-x-3,x+3*y-6),(x,y),(-1,2))\n",
    "print(s)\n",
    "s= sym.nsolve((x**2-y-x-3,x+3*y-6),(x,y),(1,2))\n",
    "print(s)\n",
    "#发现一个很奇特的现象，如果你想求方程组的符号解，原方程输入即可\n",
    "#要求数值解，直接将数字变为浮点型恐怕更简单易用\n",
    "#另外，使用nsolve解函数时，提供的初值对于函数的输出会有影响，并且无法知晓函数到底有多少解\n",
    "#百度了很久，也没有合适的解答,这先存疑》》》》"
   ],
   "metadata": {
    "collapsed": false,
    "pycharm": {
     "name": "#%%\n"
    }
   }
  },
  {
   "cell_type": "code",
   "execution_count": 100,
   "outputs": [
    {
     "name": "stdout",
     "output_type": "stream",
     "text": [
      "边值问题的解为：Eq(y(x), -x*cos(2*x)/3 + (6*cos(4) - 4*sin(4) - 9*cos(2) + 27)*sin(x)/(9*sin(2)) + 4*sin(2*x)/9 + cos(x))\n"
     ]
    }
   ],
   "source": [
    "#3.4\n",
    "\n",
    "#求微分方程的符号解\n",
    "x = sym.symbols('x')\n",
    "y = sym.symbols('y',cls = sym.Function)#定义y为函数\n",
    "eq1 = sym.diff(y(x),x,2) + y(x) -x*sym.cos(2*x)\n",
    "print('边值问题的解为：{}'.format(sym.dsolve(eq1,y(x),ics={y(0):1,y(2):3})))"
   ],
   "metadata": {
    "collapsed": false,
    "pycharm": {
     "name": "#%%\n"
    }
   }
  },
  {
   "cell_type": "code",
   "execution_count": 116,
   "outputs": [
    {
     "name": "stdout",
     "output_type": "stream",
     "text": [
      "Matrix([[1, 2], [3, 4], [5, 6]])\n",
      "Matrix([[1, 1], [2, 2], [3, 4]])\n",
      "Matrix([[1, 2, 1, 1], [3, 4, 2, 2], [5, 6, 3, 4], [2, 6, 3, 2]]) (4, 4)\n",
      "A的行列式为： 0\n"
     ]
    }
   ],
   "source": [
    "#3.5\n",
    "\n",
    "#求行列式的值\n",
    "A1 =sym.Matrix(np.arange(1,7).reshape(3,2))\n",
    "print(A1)\n",
    "A2 = sym.Matrix([[1,1], [2,2],[3,4]])\n",
    "print(A2)\n",
    "A3 = sym.Matrix([[2,6]])\n",
    "A4 = sym.Matrix([[3,2]])\n",
    "B1 = A1.row_join(A2)\n",
    "B2 = A3.row_join(A4)\n",
    "A = B1.col_join(B2)\n",
    "print(A,A.shape)\n",
    "print('A的行列式为：',sym.det(A))"
   ],
   "metadata": {
    "collapsed": false,
    "pycharm": {
     "name": "#%%\n"
    }
   }
  },
  {
   "cell_type": "code",
   "execution_count": 137,
   "outputs": [
    {
     "name": "stdout",
     "output_type": "stream",
     "text": [
      "A的基础解系为： [Matrix([\n",
      "[   0],\n",
      "[-1/2],\n",
      "[   1],\n",
      "[   0]])]\n",
      "(3, 4)\n",
      "(3, 1)\n",
      "增广矩阵的最简形为: (Matrix([\n",
      "[1, 1/2, -1/2, 0, 1/2],\n",
      "[0,   0,    0, 1,   0],\n",
      "[0,   0,    0, 0,   0]]), (0, 3))\n"
     ]
    }
   ],
   "source": [
    "#3.6\n",
    "\n",
    "#求解线性方程组,可以使用sumpy，也可以使用numpy\n",
    "#(1)其次线性方程+\n",
    "A1 = sym.Matrix([[1,2,1,-1],[3,6,-1,-3],[5,10,1,-5]])\n",
    "print('A的基础解系为：',A.nullspace())\n",
    "#（2）非齐次线性方程\n",
    "A2 = sym.Matrix([[2,1,-1,1],[4,2,-2,1],[2,1,-1,-1]])\n",
    "print(A2.shape)\n",
    "B = sym.Matrix([[1],[2],[1]])\n",
    "print(B.shape)\n",
    "C = A2.row_join(B)#构造增广矩阵\n",
    "print('增广矩阵的最简形为:',C.rref())#由最简矩阵可知，第1列和第4列为最简坐标向量\n",
    "#通过等价方程组，即可以解出最终的通解"
   ],
   "metadata": {
    "collapsed": false,
    "pycharm": {
     "name": "#%%\n"
    }
   }
  },
  {
   "cell_type": "code",
   "execution_count": 146,
   "outputs": [
    {
     "name": "stdout",
     "output_type": "stream",
     "text": [
      "系数矩阵的秩为： 2\n",
      "增广矩阵的秩为： 3\n",
      "系数矩阵的秩为： 2\n",
      "增广矩阵的秩为： 2\n",
      "最小范数解为： [[ 0.33333333]\n",
      " [ 1.33333333]\n",
      " [-0.66666667]]\n"
     ]
    }
   ],
   "source": [
    "#3.7\n",
    "\n",
    "#选择numpy\n",
    "#(1)非齐次线性方程组\n",
    "import numpy as np\n",
    "import numpy.linalg as LA\n",
    "A = np.array([[4,2,-1],[3,-1,2],[11,3,0]])\n",
    "B = np.array([[2,10,8]]).reshape(3,1)\n",
    "print('系数矩阵的秩为：',LA.matrix_rank(A))\n",
    "print('增广矩阵的秩为：',LA.matrix_rank(np.c_[A,B]))#说明系数矩阵的秩小于增广矩阵的秩，方程无解\n",
    "#（2）题目中有三个变量，但是有四个方程组，这种方程组称为矛盾方程组\n",
    "C = np.array([[2,3,1],[1,-2,4],[3,8,-2],[4,-1,9]])\n",
    "D = np.array([[4,-5,13,-6]]).reshape(4,1)\n",
    "print('系数矩阵的秩为：',LA.matrix_rank(C))\n",
    "print('增广矩阵的秩为：',LA.matrix_rank(np.c_[C,D]))#可见第二问有最小二乘解\n",
    "print('最小二乘解为：',LA.pinv(C).dot(D))#最小二乘解与最小范数解为同样的计算方式"
   ],
   "metadata": {
    "collapsed": false,
    "pycharm": {
     "name": "#%%\n"
    }
   }
  },
  {
   "cell_type": "code",
   "execution_count": 147,
   "outputs": [
    {
     "name": "stdout",
     "output_type": "stream",
     "text": [
      "特征值为： [ 2. 11.  2.]\n",
      "特征向量为： [[-0.74535599  0.66666667 -0.34869867]\n",
      " [ 0.2981424   0.33333333 -0.65103258]\n",
      " [ 0.59628479  0.66666667  0.67421496]]\n"
     ]
    }
   ],
   "source": [
    "#3.8\n",
    "\n",
    "#求特征值和特征向量\n",
    "A = np.array([[6,2,4],[2,3,2],[4,2,6]])\n",
    "values,vectors = LA.eig(A)\n",
    "print('特征值为：',values)\n",
    "print('特征向量为：',vectors )"
   ],
   "metadata": {
    "collapsed": false,
    "pycharm": {
     "name": "#%%\n"
    }
   }
  },
  {
   "cell_type": "code",
   "execution_count": 244,
   "outputs": [
    {
     "name": "stdout",
     "output_type": "stream",
     "text": [
      "-a**2 + 2*a*b - 2*a - b**2 + 2*b - 1\n",
      "2*a*b + 2*b\n",
      "a**2 + 2*a*b + 2*a + b**2 + 2*b + 1\n",
      "a,b的值更新为 [(-1, 0)]\n",
      "A矩阵更新为: Matrix([[1, 0, 1], [0, 1, 0], [1, 0, 1]])\n",
      "特征值为： [2. 0. 1.]\n",
      "特征向量为： [[ 0.40824829 -0.40824829  0.        ]\n",
      " [ 0.          0.          0.57735027]\n",
      " [ 0.40824829  0.40824829  0.        ]]\n"
     ]
    }
   ],
   "source": [
    "#3.9\n",
    "\n",
    "#求参数a，b以及对应的正交变换矩阵\n",
    "'''\n",
    "二次型f(x，y，z)=ax**2+by**2+cz**2+dxy+exz+fyz，用矩阵表示的时候，矩阵的元素与二次型系数的对应关系为：A11=a，A22=b，A33=c，A12=A21=d/2，A13=A31=e/2，A23=A32=f/2\n",
    "由题可知，特征值为0,1,2\n",
    "利用两个性质：\n",
    "        1：设有N阶矩阵A，那么矩阵A的迹（用tr（A）表示）就等于A的特征值的总和\n",
    "        2：根据特征值为1和2，确定行列式A的值为0\n",
    "'''\n",
    "import numpy as num\n",
    "a,b = sym.symbols('a b')#real = True,constant = True\n",
    "A = sym.Matrix([[1,a+1,1],[a+1,1,b],[1,b,1]])\n",
    "print(A.det())#计算特征值为0时行列式的值\n",
    "print((A-sym.eye(3)).det())#矩阵的特征值为1行列式的值\n",
    "print((A-2*sym.eye(3)).det())#矩阵的特征值为2行列式的值\n",
    "exp1 = -a**2 + 2*a*b - 2*a - b**2 + 2*b - 1\n",
    "exp2 = 2*a*b + 2*b\n",
    "exp3 = a**2 + 2*a*b + 2*a + b**2 + 2*b + 1\n",
    "print('a,b的值更新为',sym.solve([exp1,exp2,exp3],[a,b])) #求解出a的值为-1，b的值为0\n",
    "print('A矩阵更新为:',sym.Matrix([[1,0,1],[0,1,0],[1,0,1]]))\n",
    "A = np.array([[1,0,1],[0,1,0],[1,0,1]])\n",
    "values,vectors = LA.eig(A)\n",
    "print('特征值为：',values)\n",
    "print('特征向量为：',vectors/num.linalg.norm(vectors) )"
   ],
   "metadata": {
    "collapsed": false,
    "pycharm": {
     "name": "#%%\n"
    }
   }
  },
  {
   "cell_type": "code",
   "execution_count": 262,
   "outputs": [
    {
     "name": "stdout",
     "output_type": "stream",
     "text": [
      "cos(1)\n",
      "   2                \n",
      "  x ⋅sin(1)         \n",
      "- ───────── + cos(1)\n",
      "      2             \n",
      "                          2                \n",
      " 4 ⎛  cos(1)   sin(1)⎞   x ⋅sin(1)         \n",
      "x ⋅⎜- ────── + ──────⎟ - ───────── + cos(1)\n",
      "   ⎝    8        8   ⎠       2             \n"
     ]
    },
    {
     "data": {
      "text/plain": "<Figure size 432x288 with 1 Axes>",
      "image/png": "[encoded data removed]"
     },
     "metadata": {
      "needs_background": "light"
     },
     "output_type": "display_data"
    },
    {
     "data": {
      "text/plain": "<sympy.plotting.plot.Plot at 0x17f3be5acd0>"
     },
     "execution_count": 262,
     "metadata": {},
     "output_type": "execute_result"
    }
   ],
   "source": [
    "#3.10\n",
    "\n",
    "#可以使用sympy.series函数\n",
    "import sympy as sym\n",
    "x = sym.symbols('x')\n",
    "formula = sym.cos(sym.sqrt(x**2+1))\n",
    "f1 = sym.series(formula,x,0,1).removeO()\n",
    "f3 = sym.series(formula,x,0,3).removeO()\n",
    "f5 = sym.series(formula,x,0,5).removeO()\n",
    "sym.pprint(f1)#1阶\n",
    "sym.pprint(f3)#3阶\n",
    "sym.pprint(f5)#5阶\n",
    "sym.plot((f1,(x,-3,3)),(f3,(x,-3,3)),(f5,(x,-3,3)),line_color = 'r')"
   ],
   "metadata": {
    "collapsed": false,
    "pycharm": {
     "name": "#%%\n"
    }
   }
  },
  {
   "cell_type": "code",
   "execution_count": 288,
   "outputs": [
    {
     "name": "stdout",
     "output_type": "stream",
     "text": [
      "[[ 0.          0.          4.5         0.          8.91800933  0.85509858\n",
      "  12.99959308  2.75000597 16.35640054  5.7469784  18.62196582  9.63506456\n",
      "  19.74149169 13.99358057 20.03124502 18.48424233 19.97536056 22.9838953\n",
      "  20.08444862 27.48257286]\n",
      " [20.          0.         20.          3.         20.          6.\n",
      "  20.          9.         20.         12.         20.         15.\n",
      "  20.         18.         20.         21.         20.         24.\n",
      "  20.         27.        ]]\n"
     ]
    },
    {
     "data": {
      "text/plain": "<Figure size 432x288 with 1 Axes>",
      "image/png": "[encoded data removed]"
     },
     "metadata": {
      "needs_background": "light"
     },
     "output_type": "display_data"
    }
   ],
   "source": [
    "#3.11\n",
    "\n",
    "#最终计算结果为9秒钟左右\n",
    "import numpy as num\n",
    "import numpy.linalg as ng\n",
    "import matplotlib.pyplot as plt\n",
    "N = 2 #需要更新位置的即是兔子和猎狗两个对象\n",
    "vr = 3#兔子的速度为3m/s\n",
    "vd = 4.5 #猎狗的速度为4.5m/s\n",
    "times = 9#设定初步的追逐时间\n",
    "divs = 10\n",
    "T = np.linspace(0,times,divs)\n",
    "# print(T)#可以简要查看一下位置的更新迭代时间\n",
    "dt = T[1] -T[0]\n",
    "xy = np.array([[0,0],[20,0]])#初始位置，猎狗与兔子\n",
    "Txy = xy#Txy用来存储所有的xy坐标\n",
    "xyn = np.empty((2,2))#空矩阵用来接收更新的兔子和猎狗的位置\n",
    "for n in range (1,len(T)):#每个时间点一次循环\n",
    "    for i in [0,1]:#只有两个待更行对象\n",
    "        j = (i+1)%2\n",
    "        dxy = xy[j]-xy[i]#两者的相对位置\n",
    "        dd = dxy/ng.norm(dxy)#单位化向量，相当于给与了运动的方向\n",
    "        if i ==0:\n",
    "            xyn[i] = xy[i] + vd*dt*dd #猎狗的位置更新\n",
    "        else:\n",
    "            xyn[i] = [20,xy[i][1]+vr*dt]#兔子的位置更新\n",
    "    Txy = np.c_[Txy,xyn]#矩阵存储当前的坐标\n",
    "    xy = xyn.copy()#更新时刻点的xy坐标\n",
    "print(Txy)\n",
    "for i in range(N):\n",
    "    plt.plot(Txy[i,::2],Txy[i,1::2])\n",
    "plt.show()"
   ],
   "metadata": {
    "collapsed": false,
    "pycharm": {
     "name": "#%%\n"
    }
   }
  },
  {
   "cell_type": "code",
   "execution_count": 303,
   "outputs": [
    {
     "name": "stdout",
     "output_type": "stream",
     "text": [
      "一重积分计算结果为： (0.8328534212790222, 1.2431818039574587e-08)\n",
      "二重积分的值为： 21.40714285713916\n",
      "三重积分计算结果为： (67.02064327658225, 7.440786129085081e-13)\n"
     ]
    }
   ],
   "source": [
    "#3.12\n",
    "\n",
    "#（1）\n",
    "import numpy as np\n",
    "from scipy.integrate import quad,dblquad\n",
    "f = lambda x: np.exp(-x)*np.sin( np.sqrt(x**2+2))\n",
    "print('一重积分计算结果为：', quad(f,0,np.inf))#返回值有两个，第一个值是积分的值，第二个值是对积分值的绝对误差估计。\n",
    "#（2）对于2问中，可以将积分划分为（0,1）及（1,4）区域\n",
    "f1 = lambda y,x:x**2+2*y**2\n",
    "bd1 = lambda x:np.sqrt(x)\n",
    "bd2 = lambda x:x-2\n",
    "value1,err1 = dblquad(f1,0,1,lambda x: -bd1(x),bd1)#输出值和误差\n",
    "value2,err2= dblquad(f1,1,4,lambda x:bd2(x),bd1)\n",
    "print(\"二重积分的值为：\",value1+value2)\n",
    "#（3）三重积分\n",
    "# x**2+y**2= p**2 = z，说明曲面半径为np.sqrt（z）,则曲面面积为np.pi*z\n",
    "print('三重积分计算结果为：', quad(lambda z:z*np.pi*z,0,4))"
   ],
   "metadata": {
    "collapsed": false,
    "pycharm": {
     "name": "#%%\n"
    }
   }
  },
  {
   "cell_type": "code",
   "execution_count": 332,
   "outputs": [
    {
     "name": "stdout",
     "output_type": "stream",
     "text": [
      "-2*exp(-x)*sin(x) + 2*exp(-x)*cos(x)\n",
      "⎧        5⋅π │      ⎫   ⎧        π │      ⎫\n",
      "⎨2⋅n⋅π + ─── │ n ∊ ℤ⎬ ∪ ⎨2⋅n⋅π + ─ │ n ∊ ℤ⎬\n",
      "⎩         4  │      ⎭   ⎩        4 │      ⎭\n",
      "极大值为：0.644793883889669\n",
      "极小值为：-0.027864070195388408\n"
     ]
    }
   ],
   "source": [
    "#3.13\n",
    "\n",
    "#求极值点\n",
    "from scipy.optimize import fminbound\n",
    "x = sym.symbols('x')\n",
    "expr1 = 2*sym.exp(-x)*sym.sin(x)\n",
    "expr1_x = sym.diff(expr1,x)\n",
    "print(expr1_x)#输出一阶导\n",
    "sym.pprint(sym.solveset(expr1_x,x))#输出一阶导为0的点，可见三角函数的解有无穷多个\n",
    "#当n为0时，一阶导为0的点为sym.pi/4,5*sym.pi/4\n",
    "f= lambda x:2*np.exp(-x)*np.sin(x)\n",
    "print('极大值为：{}'.format(f(np.pi/4)))\n",
    "print('极小值为：{}'.format(f(5*np.pi/4)))"
   ],
   "metadata": {
    "collapsed": false,
    "pycharm": {
     "name": "#%%\n"
    }
   }
  },
  {
   "cell_type": "code",
   "execution_count": 339,
   "outputs": [
    {
     "name": "stdout",
     "output_type": "stream",
     "text": [
      "28.27433388230814\n",
      "28.27433388230814\n",
      "56.54866776461628\n",
      "554176.9440932396\n"
     ]
    }
   ],
   "source": [
    "#3.14\n",
    "\n",
    "#旋转一周形成葫芦一样的柱体\n",
    "#（1）求体积，将图像分割为-2<=y<=1,1<y<=4两部分\n",
    "from scipy.integrate import quad\n",
    "func1 = lambda y:np.pi*(4-y**2)\n",
    "func2 = lambda y:np.pi*(4-(y-2)**2)\n",
    "val1,er1 = quad(func1,-2,1)#下半部分旋转的体积\n",
    "print(val1)\n",
    "val2,er2 = quad(func2,1,4)#上半部分旋转的体积\n",
    "print(val2)\n",
    "print(val1+val2)#最终的合并体积  #可以整体使用sympy求符号解\n",
    "#（1）求做功(功 = 力*距离，水的质量 = 水的体积*水的密度，力F = mg，可以先求单位体积的做功，再求整体的微分)\n",
    "p = 1*10**3 #水的密度\n",
    "g = 9.8 #重力加速度\n",
    "func3 = lambda y: p*g*(2-y)*np.pi*(4-y**2)\n",
    "func4 = lambda y: p*g*(2-y)*np.pi*(4-(y-2)**2)\n",
    "val3,err3 = quad(func3,-2,1) #抽取下班部分水所做的功\n",
    "val4,err4 = quad(func4,1,4) #抽取上半部分水做的功\n",
    "print(val3+val4)#最终计算出来的做功"
   ],
   "metadata": {
    "collapsed": false,
    "pycharm": {
     "name": "#%%\n"
    }
   }
  },
  {
   "cell_type": "code",
   "execution_count": 341,
   "outputs": [
    {
     "name": "stdout",
     "output_type": "stream",
     "text": [
      "阻力系数为： 7000.0\n",
      "安全距离为: 685.7142857142857\n"
     ]
    }
   ],
   "source": [
    "#3.15\n",
    "\n",
    "#参考文档：https://www.docin.com/p-1853085899.html\n",
    "#可以不进行单位的换算，直接计算\n",
    "#（1）\n",
    "'''\n",
    "飞机的速度为V，则减速伞的阻力f = -kv\n",
    "牛顿第二定律F（合） = ma,应用牛顿第二定律可得到：m*dv/dt = -kv\n",
    "为得到速度与距离之间的关系将dv/dt改写为dv/dx*dx/dt = v*dv/dx\n",
    "将此式子代入上牛顿第二定律推导式，则dv = -k/m*dx，\n",
    "对左右两边同时积分(左边vo--vt，右边想x = x（t）),求出K = m*（v0-vt）/x(t)\n",
    "'''\n",
    "m = 5000 #飞机重量\n",
    "v0 = 800 #初速度为800\n",
    "x = 500 #飞机滑行的距离\n",
    "vt =100 #飞机最后的末速度\n",
    "k = m *(v0-vt)/ x\n",
    "print('阻力系数为：',k)\n",
    "#(2)\n",
    "'''\n",
    "即相同的阻力系数\n",
    "由于m*dv/dt = -kv，则dv/v =- k/m*dt,同样应用上问中的定义域积分方法\n",
    "求解出v(t),再利用dx/dt = v(t)，再次积分，求出x（t）\n",
    "'''\n",
    "m2 = 8000\n",
    "v2 = 600\n",
    "f = lambda t :m2*v2/k*(1-np.exp(-k/m*t))#该方程小于等于m2*v2/k\n",
    "print('安全距离为:',m2*v2/k)#685<1200,所以能够安全着陆"
   ],
   "metadata": {
    "collapsed": false,
    "pycharm": {
     "name": "#%%\n"
    }
   }
  },
  {
   "cell_type": "code",
   "execution_count": 343,
   "outputs": [
    {
     "name": "stdout",
     "output_type": "stream",
     "text": [
      "局部极小点为：[1.31759894 1.73607197]，极小值为：-0.00016724663812221996\n"
     ]
    }
   ],
   "source": [
    "#3.16\n",
    "\n",
    "#求二元函数的局部极小点\n",
    "from scipy.optimize import minimize\n",
    "f = lambda x: 100*(x[1]-x[0]**2)**2+(1-np.sin(x[0]))**2*np.cos(x[1])\n",
    "x0 = minimize(f,[2.0,2.0],)\n",
    "print('局部极小点为：{}，极小值为：{}'.format(x0.x,x0.fun))"
   ],
   "metadata": {
    "collapsed": false,
    "pycharm": {
     "name": "#%%\n"
    }
   }
  }
 ],
 "metadata": {
  "kernelspec": {
   "display_name": "Python 3",
   "language": "python",
   "name": "python3"
  },
  "language_info": {
   "codemirror_mode": {
    "name": "ipython",
    "version": 2
   },
   "file_extension": ".py",
   "mimetype": "text/x-python",
   "name": "python",
   "nbconvert_exporter": "python",
   "pygments_lexer": "ipython2",
   "version": "2.7.6"
  }
 },
 "nbformat": 4,
 "nbformat_minor": 0
}