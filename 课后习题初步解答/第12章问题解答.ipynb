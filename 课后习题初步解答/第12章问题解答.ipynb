{
 "cells": [
  {
   "cell_type": "code",
   "execution_count": 7,
   "metadata": {
    "collapsed": true
   },
   "outputs": [
    {
     "name": "stdout",
     "output_type": "stream",
     "text": [
      "b0 = -67.3538\n",
      "b12=106.9354    0.0275\n",
      "拟合优度R2=0.9836\n"
     ]
    }
   ],
   "source": [
    "#12.1\n",
    "#使用线性回归解决\n",
    "import numpy as np\n",
    "from sklearn.linear_model import LinearRegression\n",
    "a = np.array([\n",
    "    [4,3424,450.5],\n",
    "    [5,4086,613.9],\n",
    "    [4,4388,501.5],\n",
    "    [7,4808,781.5],\n",
    "    [5,5896,611.1],\n",
    "    [10,6604,1222.1],\n",
    "    [7,6662,793.2],\n",
    "    [6,7018,792.7],\n",
    "    [9,8706,1121],\n",
    "    [8,10478,1094.2]])\n",
    "model = LinearRegression().fit(a[:,:2],a[:,2])\n",
    "y = model.predict(np.array([10,9600]).reshape(1,-1))\n",
    "b0 = model.intercept_ #常数系数\n",
    "b12 = model.coef_#k系数\n",
    "R2 = model.score(a[:,:2],a[:,2])#计算R2\n",
    "print('b0 = %.4f\\nb12=%.4f%10.4f'%(b0,b12[0],b12[1]))\n",
    "print('拟合优度R2=%.4f'%R2)"
   ]
  },
  {
   "cell_type": "code",
   "execution_count": 8,
   "outputs": [
    {
     "name": "stdout",
     "output_type": "stream",
     "text": [
      "b0 = 62650.9285\n",
      "b12=-979.0570    0.2862\n",
      "拟合优度R2=0.9022\n"
     ]
    }
   ],
   "source": [
    "#12.1\n",
    "\n",
    "import numpy as np\n",
    "from sklearn.linear_model import LinearRegression\n",
    "a = np.array([\n",
    "    [23.56,76200,59190],\n",
    "    [24.44,91200,65450],\n",
    "    [32.07,106700,62360],\n",
    "    [32.46,111600,64700],\n",
    "    [31.15,119000,67400],\n",
    "    [34.14,129200,64440],\n",
    "    [35.30,143400,68000],\n",
    "    [38.7,159600,72400],\n",
    "    [39.63,180000,75710],\n",
    "    [46.68,193000,70680]])\n",
    "model = LinearRegression().fit(a[:,:2],a[:,2])\n",
    "y = model.predict(np.array([10,9600]).reshape(1,-1))\n",
    "b0 = model.intercept_ #常数系数\n",
    "b12 = model.coef_#k系数\n",
    "R2 = model.score(a[:,:2],a[:,2])#计算R2\n",
    "print('b0 = %.4f\\nb12=%.4f%10.4f'%(b0,b12[0],b12[1]))\n",
    "print('拟合优度R2=%.4f'%R2)\n"
   ],
   "metadata": {
    "collapsed": false,
    "pycharm": {
     "name": "#%%\n"
    }
   }
  },
  {
   "cell_type": "code",
   "execution_count": 1,
   "outputs": [
    {
     "data": {
      "text/plain": "<Figure size 432x288 with 1 Axes>",
      "image/png": "[encoded data removed]"
     },
     "metadata": {
      "needs_background": "light"
     },
     "output_type": "display_data"
    },
    {
     "name": "stdout",
     "output_type": "stream",
     "text": [
      "                            OLS Regression Results                            \n",
      "==============================================================================\n",
      "Dep. Variable:                      y   R-squared:                       0.929\n",
      "Model:                            OLS   Adj. R-squared:                  0.915\n",
      "Method:                 Least Squares   F-statistic:                     65.60\n",
      "Date:                Mon, 04 Jul 2022   Prob (F-statistic):           0.000465\n",
      "Time:                        23:27:31   Log-Likelihood:                 11.119\n",
      "No. Observations:                   7   AIC:                            -18.24\n",
      "Df Residuals:                       5   BIC:                            -18.35\n",
      "Df Model:                           1                                         \n",
      "Covariance Type:            nonrobust                                         \n",
      "==============================================================================\n",
      "                 coef    std err          t      P>|t|      [0.025      0.975]\n",
      "------------------------------------------------------------------------------\n",
      "const          0.1781      0.053      3.349      0.020       0.041       0.315\n",
      "x1             0.1673      0.021      8.100      0.000       0.114       0.220\n",
      "==============================================================================\n",
      "Omnibus:                          nan   Durbin-Watson:                   2.563\n",
      "Prob(Omnibus):                    nan   Jarque-Bera (JB):                0.683\n",
      "Skew:                           0.287   Prob(JB):                        0.711\n",
      "Kurtosis:                       1.581   Cond. No.                         6.99\n",
      "==============================================================================\n",
      "\n",
      "Notes:\n",
      "[1] Standard Errors assume that the covariance matrix of the errors is correctly specified.\n",
      "[-1.40066042  0.73900674] \n",
      " 剂量为： 1.8953283452155225\n"
     ]
    },
    {
     "name": "stderr",
     "output_type": "stream",
     "text": [
      "C:\\Users\\goodboy\\AppData\\Local\\Programs\\Python\\Python39\\lib\\site-packages\\statsmodels\\stats\\stattools.py:74: ValueWarning: omni_normtest is not valid with less than 8 observations; 7 samples were given.\n",
      "  warn(\"omni_normtest is not valid with less than 8 observations; %i \"\n"
     ]
    }
   ],
   "source": [
    "#12.3\n",
    "\n",
    "import numpy as np\n",
    "import statsmodels.api as sm\n",
    "import pylab as plt\n",
    "a = np.array([[0.9,0.37],[1.1,0.31],[1.8,0.44],[2.3,0.60],[3.0,0.67],[3.3,0.81],[4.0,0.79]])\n",
    "x = a[:,0]; p = a[:,1]\n",
    "plt.plot(x, p, 'p');\n",
    "plt.xlabel('$x$')\n",
    "plt.ylabel('$p$', rotation=0);\n",
    "plt.show()\n",
    "X = sm.add_constant(x)\n",
    "md = sm.OLS(p, X).fit()  #构建并拟合模型\n",
    "print(md.summary())   #输出计算结果\n",
    "y = np.log(p/(1-p))\n",
    "cs = np.linalg.pinv(X) @ y  #线性最小二乘拟合\n",
    "x0 = -cs[0] / cs[1]   #求剂量\n",
    "print(cs,'\\n','剂量为：',x0)\n"
   ],
   "metadata": {
    "collapsed": false,
    "pycharm": {
     "name": "#%%\n"
    }
   }
  },
  {
   "cell_type": "code",
   "execution_count": 13,
   "outputs": [
    {
     "name": "stdout",
     "output_type": "stream",
     "text": [
      "拟合的参数为： [-1.09906293  0.28603066  1.78234146 -0.3619957 ]\n",
      "两种水分含量分别为： 8.994643947595016 , 3.842465455803507\n",
      "加盖和不加盖的赔率分别为： 1.255442704370899 , 1.853583938291554\n",
      "赔率比为： 0.6773055584027337\n"
     ]
    }
   ],
   "source": [
    "#12.4\n",
    "\n",
    "import numpy as np\n",
    "a = np.loadtxt('ti10_7.txt')      #提取10×8矩阵\n",
    "d = np.vstack([a[:,:4], a[:,4:]]) #变形为20×4矩阵\n",
    "f = d[:,3] * (d[:,2]==1) +(100-d[:,3])*(d[:,2]==0) #发芽频数\n",
    "pd = f/100  #发芽频率\n",
    "mat = np.stack([np.ones(20), d[:,0],d[:,1], d[:,0]*d[:,1]]).T\n",
    "cs = np.linalg.pinv(mat) @ np.log(pd/(1-pd))  #拟合参数\n",
    "print('拟合的参数为：', cs)\n",
    "x11 = -(cs[0]+cs[2]) / (cs[1]+cs[3])  #计算水分含量\n",
    "x10 = -cs[0] / cs[1]                  #计算水分含量\n",
    "print('两种水分含量分别为：', x11,',',x10)\n",
    "odd1 = np.exp(cs@[1,6,1,6]) #计算加盖时发芽的赔率\n",
    "odd2 = np.exp(cs@[1,6,0,0])  #计算不加盖时发芽的赔率\n",
    "OR = odd1/odd2              #计算赔率比\n",
    "print('加盖和不加盖的赔率分别为：',odd1,',',odd2)\n",
    "print('赔率比为：', OR)\n",
    "\n"
   ],
   "metadata": {
    "collapsed": false,
    "pycharm": {
     "name": "#%%\n"
    }
   }
  }
 ],
 "metadata": {
  "kernelspec": {
   "display_name": "Python 3",
   "language": "python",
   "name": "python3"
  },
  "language_info": {
   "codemirror_mode": {
    "name": "ipython",
    "version": 2
   },
   "file_extension": ".py",
   "mimetype": "text/x-python",
   "name": "python",
   "nbconvert_exporter": "python",
   "pygments_lexer": "ipython2",
   "version": "2.7.6"
  }
 },
 "nbformat": 4,
 "nbformat_minor": 0
}